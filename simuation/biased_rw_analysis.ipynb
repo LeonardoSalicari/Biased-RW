{
 "cells": [
  {
   "cell_type": "markdown",
   "metadata": {},
   "source": [
    "# Biased RW for the Compact Direct Percolation\n",
    "\n",
    "All the theory is presented in the file *notes_from_book.pdf*"
   ]
  },
  {
   "cell_type": "code",
   "execution_count": 1,
   "metadata": {},
   "outputs": [],
   "source": [
    "# importing basic tools\n",
    "import numpy as np\n",
    "import matplotlib.pyplot as plt\n",
    "\n",
    "%matplotlib inline\n",
    "%load_ext autoreload\n",
    "%load_ext line_profiler\n",
    "%load_ext memory_profiler\n",
    "%autoreload 2 # for reloading all modules; this allow me to modify biased_rw.py\n",
    "\n",
    "# Importing my module\n",
    "import sys, os\n",
    "sys.path[0] = 'src/'\n",
    "import biased_rw as brw"
   ]
  },
  {
   "cell_type": "markdown",
   "metadata": {},
   "source": [
    "## Benchmark\n",
    "Some benchmarks relatives to the main functions of the module I wrote"
   ]
  },
  {
   "cell_type": "code",
   "execution_count": 2,
   "metadata": {},
   "outputs": [
    {
     "name": "stdout",
     "output_type": "stream",
     "text": [
      " "
     ]
    },
    {
     "data": {
      "text/plain": [
       "         65213 function calls (65189 primitive calls) in 0.295 seconds\n",
       "\n",
       "   Ordered by: internal time\n",
       "\n",
       "   ncalls  tottime  percall  cumtime  percall filename:lineno(function)\n",
       "    56894    0.123    0.000    0.123    0.000 {method 'random' of 'numpy.random.mtrand.RandomState' objects}\n",
       "     4000    0.099    0.000    0.277    0.000 biased_rw.py:5(rw_absorbing)\n",
       "     4000    0.055    0.000    0.055    0.000 {method 'seed' of 'numpy.random.mtrand.RandomState' objects}\n",
       "        8    0.013    0.002    0.290    0.036 biased_rw.py:64(<listcomp>)\n",
       "       32    0.001    0.000    0.001    0.000 {built-in method numpy.array}\n",
       "        8    0.001    0.000    0.002    0.000 arraysetops.py:298(_unique1d)\n",
       "       10    0.001    0.000    0.295    0.029 biased_rw.py:43(pj)\n",
       "        8    0.000    0.000    0.000    0.000 function_base.py:1141(diff)\n",
       "     32/8    0.000    0.000    0.002    0.000 {built-in method numpy.core._multiarray_umath.implement_array_function}\n",
       "        8    0.000    0.000    0.000    0.000 {method 'sort' of 'numpy.ndarray' objects}\n",
       "        1    0.000    0.000    0.295    0.295 {built-in method builtins.exec}\n",
       "        8    0.000    0.000    0.000    0.000 {built-in method numpy.arange}\n",
       "        1    0.000    0.000    0.295    0.295 biased_rw.py:80(test_and_visualize)\n",
       "        8    0.000    0.000    0.002    0.000 arraysetops.py:151(unique)\n",
       "        8    0.000    0.000    0.000    0.000 {method 'flatten' of 'numpy.ndarray' objects}\n",
       "        8    0.000    0.000    0.000    0.000 {built-in method numpy.empty}\n",
       "        8    0.000    0.000    0.002    0.000 <__array_function__ internals>:2(unique)\n",
       "        8    0.000    0.000    0.000    0.000 fromnumeric.py:55(_wrapfunc)\n",
       "        8    0.000    0.000    0.000    0.000 {method 'nonzero' of 'numpy.ndarray' objects}\n",
       "        8    0.000    0.000    0.000    0.000 <__array_function__ internals>:2(nonzero)\n",
       "       24    0.000    0.000    0.000    0.000 _asarray.py:88(asanyarray)\n",
       "        8    0.000    0.000    0.000    0.000 <__array_function__ internals>:2(concatenate)\n",
       "        8    0.000    0.000    0.001    0.000 <__array_function__ internals>:2(diff)\n",
       "        8    0.000    0.000    0.000    0.000 fromnumeric.py:1804(nonzero)\n",
       "       32    0.000    0.000    0.000    0.000 {built-in method builtins.len}\n",
       "        1    0.000    0.000    0.000    0.000 {built-in method numpy.zeros}\n",
       "        8    0.000    0.000    0.000    0.000 {built-in method builtins.getattr}\n",
       "        8    0.000    0.000    0.000    0.000 {built-in method numpy.core._multiarray_umath.normalize_axis_index}\n",
       "        8    0.000    0.000    0.000    0.000 arraysetops.py:138(_unpack_tuple)\n",
       "        8    0.000    0.000    0.000    0.000 function_base.py:1137(_diff_dispatcher)\n",
       "        8    0.000    0.000    0.000    0.000 {method 'append' of 'list' objects}\n",
       "        1    0.000    0.000    0.295    0.295 <string>:1(<module>)\n",
       "        8    0.000    0.000    0.000    0.000 arraysetops.py:146(_unique_dispatcher)\n",
       "        8    0.000    0.000    0.000    0.000 multiarray.py:145(concatenate)\n",
       "        8    0.000    0.000    0.000    0.000 fromnumeric.py:1800(_nonzero_dispatcher)\n",
       "        1    0.000    0.000    0.000    0.000 {method 'disable' of '_lsprof.Profiler' objects}"
      ]
     },
     "metadata": {},
     "output_type": "display_data"
    }
   ],
   "source": [
    "%prun brw.test_and_visualize(1,10,0.45,500)"
   ]
  },
  {
   "cell_type": "code",
   "execution_count": 3,
   "metadata": {},
   "outputs": [
    {
     "data": {
      "text/plain": [
       "Timer unit: 1e-06 s\n",
       "\n",
       "Total time: 0.300779 s\n",
       "File: src/biased_rw.py\n",
       "Function: rw_absorbing at line 5\n",
       "\n",
       "Line #      Hits         Time  Per Hit   % Time  Line Contents\n",
       "==============================================================\n",
       "     5                                           def rw_absorbing(j,a,b,r,seed):\n",
       "     6                                               '''\n",
       "     7                                               Generates a 1D random walk with absorbing \n",
       "     8                                               barrier in a and b and returns in which point the walker ended up.\n",
       "     9                                               \n",
       "    10                                               j = starting position\n",
       "    11                                               a = lower bound\n",
       "    12                                               b = upper bound\n",
       "    13                                               r = probability to move to the right\n",
       "    14                                               seed = seed for the RNG\n",
       "    15                                               \n",
       "    16                                               Note that we must have a < b, a <= j <= b (integrers) and 0<=r<=1 (float)\n",
       "    17                                               '''\n",
       "    18                                               \n",
       "    19      4000       5491.0      1.4      1.8      j = int(j)\n",
       "    20      4000       4797.0      1.2      1.6      a = int(a)\n",
       "    21      4000       4761.0      1.2      1.6      b = int(b)\n",
       "    22                                               \n",
       "    23                                               # checks\n",
       "    24      4000       4590.0      1.1      1.5      if a >= b:\n",
       "    25                                                   raise ValueError('must be a < b')\n",
       "    26      4000       5068.0      1.3      1.7      if j < a or j > b:\n",
       "    27                                                   raise ValueError('must be a <= j <= b')\n",
       "    28      4000       5900.0      1.5      2.0      if r < 0 or r > 1:\n",
       "    29                                                   raise ValueError('must be 0<=r<=1, because it is a probability')\n",
       "    30                                                   \n",
       "    31      4000      38420.0      9.6     12.8      np.random.seed(seed) # initializing a seed\n",
       "    32      4000       4794.0      1.2      1.6      position = j # starting position\n",
       "    33                                                   \n",
       "    34     60894      56564.0      0.9     18.8      while( position > a and position < b ):\n",
       "    35     56894     115389.0      2.0     38.4          if (np.random.random() <= r):\n",
       "    36     25576      23868.0      0.9      7.9              position += 1\n",
       "    37                                                   else:\n",
       "    38     31318      27091.0      0.9      9.0              position -= 1   \n",
       "    39                                                   \n",
       "    40      4000       4046.0      1.0      1.3      return position"
      ]
     },
     "metadata": {},
     "output_type": "display_data"
    }
   ],
   "source": [
    "%lprun -f brw.rw_absorbing brw.test_and_visualize(1,10,0.45,500)"
   ]
  },
  {
   "cell_type": "markdown",
   "metadata": {},
   "source": [
    "As we can see, most of the time is spent during the random numnber generation. I've tried to implement a non global random number generator using the `np.random.Generetor` class, but maybe I've implemented wrongly. Nevertheless, in this way the code is acceptable."
   ]
  },
  {
   "cell_type": "markdown",
   "metadata": {},
   "source": [
    "## Analysis"
   ]
  }
 ],
 "metadata": {
  "kernelspec": {
   "display_name": "Python 3",
   "language": "python",
   "name": "python3"
  },
  "language_info": {
   "codemirror_mode": {
    "name": "ipython",
    "version": 3
   },
   "file_extension": ".py",
   "mimetype": "text/x-python",
   "name": "python",
   "nbconvert_exporter": "python",
   "pygments_lexer": "ipython3",
   "version": "3.8.1"
  }
 },
 "nbformat": 4,
 "nbformat_minor": 4
}
