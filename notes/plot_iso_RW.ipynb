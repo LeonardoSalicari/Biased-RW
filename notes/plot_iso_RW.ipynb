{
 "cells": [
  {
   "cell_type": "code",
   "execution_count": 3,
   "metadata": {},
   "outputs": [],
   "source": [
    "import matplotlib.pyplot as plt\n",
    "import numpy as np\n",
    "%matplotlib inline"
   ]
  },
  {
   "cell_type": "code",
   "execution_count": 32,
   "metadata": {},
   "outputs": [
    {
     "data": {
      "image/png": "[encoded data removed]",
      "text/plain": [
       "<Figure size 432x288 with 1 Axes>"
      ]
     },
     "metadata": {
      "needs_background": "light"
     },
     "output_type": "display_data"
    }
   ],
   "source": [
    "factor = 2\n",
    "x = np.linspace(-5, 5, 100) \n",
    "\n",
    "def pdf(x, t, D=1, x0=1):\n",
    "    prefactor = ( np.sqrt(4*np.pi*D*t) )**(-1)\n",
    "    expP = np.exp(-(x+x0)**2/(4*D*t) )\n",
    "    expM = np.exp(-(x-x0)**2/(4*D*t) )\n",
    "    return prefactor*( expM - expP )\n",
    "\n",
    "time = 1\n",
    "y = np.array([pdf(_,time,D,x0) for _ in x])\n",
    "\n",
    "plt.xlabel('$x$')\n",
    "plt.ylabel('$p(x,{})$'.format(time))\n",
    "plt.plot(x,y,'.')\n",
    "plt.savefig('plot_iso_RW', format='pdf')"
   ]
  }
 ],
 "metadata": {
  "kernelspec": {
   "display_name": "Python 3",
   "language": "python",
   "name": "python3"
  },
  "language_info": {
   "codemirror_mode": {
    "name": "ipython",
    "version": 3
   },
   "file_extension": ".py",
   "mimetype": "text/x-python",
   "name": "python",
   "nbconvert_exporter": "python",
   "pygments_lexer": "ipython3",
   "version": "3.8.1"
  }
 },
 "nbformat": 4,
 "nbformat_minor": 4
}
